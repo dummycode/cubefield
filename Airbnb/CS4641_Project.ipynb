{
 "cells": [
  {
   "cell_type": "markdown",
   "metadata": {},
   "source": [
    "## Import Modules\n"
   ]
  },
  {
   "cell_type": "code",
   "execution_count": 35,
   "metadata": {},
   "outputs": [],
   "source": [
    "from sklearn import linear_model\n",
    "from sklearn.metrics import mean_squared_error\n",
    "import pandas as pd\n",
    "import numpy as np"
   ]
  },
  {
   "cell_type": "markdown",
   "metadata": {},
   "source": [
    "## Retrieve and Preprocess Data"
   ]
  },
  {
   "cell_type": "code",
   "execution_count": 75,
   "metadata": {},
   "outputs": [],
   "source": [
    "train = pd.read_csv(\"train.csv\").dropna(axis = 0, how = \"any\")\n",
    "test = pd.read_csv(\"train.csv\").dropna(axis = 0, how = \"any\")\n",
    "\n",
    "##property_type, accommodates, bathrooms, cancellation_policy, cleaning_fee,\n",
    "##city, host_identity_verified, review_scores_rating, bedrooms, beds\n",
    "relevant_features = [2,5,6,8,9,10,14,24,27,28]\n",
    "\n",
    "##Enumerate discrete features\n",
    "##property_type,cancellation_policy, cleaning_fee, city, host_identity_verified\n",
    "enumerate_cols = [2,8,9,10,14]\n",
    "for col in enumerate_cols:\n",
    "    values = np.union1d(train.iloc[:,col].unique(),test.iloc[:,col].unique())\n",
    "    mappings = dict(zip(values, range(1, len(values) + 1)))\n",
    "    train = train.replace(mappings)\n",
    "    test = test.replace(mappings)\n",
    "    \n",
    "x_train = train.iloc[:,relevant_features]\n",
    "y_train = train.iloc[:,1]\n",
    "\n",
    "x_test = test.iloc[:, relevant_features]\n",
    "y_test = test.iloc[:,1]"
   ]
  },
  {
   "cell_type": "markdown",
   "metadata": {},
   "source": [
    "## Create Linear Regression Model"
   ]
  },
  {
   "cell_type": "code",
   "execution_count": 76,
   "metadata": {},
   "outputs": [
    {
     "data": {
      "text/plain": [
       "LinearRegression(copy_X=True, fit_intercept=True, n_jobs=None, normalize=False)"
      ]
     },
     "execution_count": 76,
     "metadata": {},
     "output_type": "execute_result"
    }
   ],
   "source": [
    "regr = linear_model.LinearRegression()\n",
    "regr.fit(x_train, y_train)"
   ]
  },
  {
   "cell_type": "code",
   "execution_count": 81,
   "metadata": {},
   "outputs": [],
   "source": [
    "predictions = regr.predict(x_test)\n",
    "RMSE = mean_squared_error(y_test, predictions)"
   ]
  },
  {
   "cell_type": "code",
   "execution_count": null,
   "metadata": {},
   "outputs": [],
   "source": []
  }
 ],
 "metadata": {
  "kernelspec": {
   "display_name": "Python 3",
   "language": "python",
   "name": "python3"
  },
  "language_info": {
   "codemirror_mode": {
    "name": "ipython",
    "version": 3
   },
   "file_extension": ".py",
   "mimetype": "text/x-python",
   "name": "python",
   "nbconvert_exporter": "python",
   "pygments_lexer": "ipython3",
   "version": "3.7.2"
  }
 },
 "nbformat": 4,
 "nbformat_minor": 2
}
